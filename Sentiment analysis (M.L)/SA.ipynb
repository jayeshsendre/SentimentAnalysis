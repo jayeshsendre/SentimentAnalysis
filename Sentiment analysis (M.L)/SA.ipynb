{
 "cells": [
  {
   "cell_type": "code",
   "execution_count": 1,
   "id": "2f9bd9b7",
   "metadata": {},
   "outputs": [],
   "source": [
    "import tweepy\n",
    "from textblob import TextBlob\n",
    "from wordcloud import WordCloud\n",
    "import pandas as pd\n",
    "import numpy as np\n",
    "import re\n",
    "import matplotlib.pyplot as plt\n",
    "plt.style.use('fivethirtyeight') "
   ]
  },
  {
   "cell_type": "code",
   "execution_count": 4,
   "id": "06933ed9",
   "metadata": {},
   "outputs": [
    {
     "ename": "NameError",
     "evalue": "name 'df' is not defined",
     "output_type": "error",
     "traceback": [
      "\u001b[1;31m---------------------------------------------------------------------------\u001b[0m",
      "\u001b[1;31mNameError\u001b[0m                                 Traceback (most recent call last)",
      "\u001b[1;32m<ipython-input-4-4b2cefc509c0>\u001b[0m in \u001b[0;36m<module>\u001b[1;34m\u001b[0m\n\u001b[0;32m      3\u001b[0m \u001b[1;32mdef\u001b[0m \u001b[0mcheckpolarity\u001b[0m\u001b[1;33m(\u001b[0m\u001b[0mtext\u001b[0m\u001b[1;33m)\u001b[0m\u001b[1;33m:\u001b[0m\u001b[1;33m\u001b[0m\u001b[1;33m\u001b[0m\u001b[0m\n\u001b[0;32m      4\u001b[0m     \u001b[1;32mreturn\u001b[0m \u001b[0mTextblob\u001b[0m\u001b[1;33m(\u001b[0m\u001b[0mtext\u001b[0m\u001b[1;33m)\u001b[0m\u001b[1;33m.\u001b[0m\u001b[0msentiment\u001b[0m\u001b[1;33m.\u001b[0m\u001b[0mpolarity\u001b[0m\u001b[1;33m\u001b[0m\u001b[1;33m\u001b[0m\u001b[0m\n\u001b[1;32m----> 5\u001b[1;33m \u001b[0mdf\u001b[0m\u001b[1;33m[\u001b[0m\u001b[1;34m'subjectivity'\u001b[0m\u001b[1;33m]\u001b[0m \u001b[1;33m=\u001b[0m \u001b[0mdf\u001b[0m\u001b[1;33m[\u001b[0m\u001b[1;34m'Tweets'\u001b[0m\u001b[1;33m]\u001b[0m\u001b[1;33m.\u001b[0m\u001b[0mapply\u001b[0m\u001b[1;33m(\u001b[0m\u001b[0mchecksubjectivity\u001b[0m\u001b[1;33m)\u001b[0m\u001b[1;33m\u001b[0m\u001b[1;33m\u001b[0m\u001b[0m\n\u001b[0m\u001b[0;32m      6\u001b[0m \u001b[0mdf\u001b[0m\u001b[1;33m[\u001b[0m\u001b[1;34m'polarity'\u001b[0m\u001b[1;33m]\u001b[0m \u001b[1;33m=\u001b[0m \u001b[0mdf\u001b[0m\u001b[1;33m[\u001b[0m\u001b[1;34m'Tweets'\u001b[0m\u001b[1;33m]\u001b[0m\u001b[1;33m.\u001b[0m\u001b[0mapply\u001b[0m\u001b[1;33m(\u001b[0m\u001b[0mcheckpolarity\u001b[0m\u001b[1;33m)\u001b[0m\u001b[1;33m\u001b[0m\u001b[1;33m\u001b[0m\u001b[0m\n\u001b[0;32m      7\u001b[0m \u001b[0mdf\u001b[0m\u001b[1;33m\u001b[0m\u001b[1;33m\u001b[0m\u001b[0m\n",
      "\u001b[1;31mNameError\u001b[0m: name 'df' is not defined"
     ]
    }
   ],
   "source": [
    "def checksubjectivity(text):\n",
    "    return TextBlob(text).sentiment.subjectivity\n",
    "def checkpolarity(text):\n",
    "    return Textblob(text).sentiment.polarity\n",
    "df['subjectivity'] = df['Tweets'].apply(checksubjectivity)\n",
    "df['polarity'] = df['Tweets'].apply(checkpolarity)\n",
    "df"
   ]
  },
  {
   "cell_type": "code",
   "execution_count": null,
   "id": "9c460683",
   "metadata": {},
   "outputs": [],
   "source": [
    "words = ' '.join(t for t in df['Tweets'])\n",
    "wordcloud = WordCloud(width = 500, height = 300, random_state = 21, max_font_size = 119).generate(words)\n",
    "plt.imshow(wordcloud, interpolation = \"bilinear\")\n",
    "plt.axis(\"off\")\n",
    "plt.show"
   ]
  },
  {
   "cell_type": "code",
   "execution_count": null,
   "id": "95d0c262",
   "metadata": {},
   "outputs": [],
   "source": [
    "def getAnalyse(score):\n",
    "    if score < 0:\n",
    "        return \"Not Depressed\"\n",
    "    elif score == 0:\n",
    "        return \"Neutral\"\n",
    "    else: \n",
    "        return ('Depressed')\n",
    "\n",
    "df['Analysis'] = df['Polarity'].apply(getAnalysis)\n",
    "df"
   ]
  },
  {
   "cell_type": "code",
   "execution_count": null,
   "id": "c5709039",
   "metadata": {},
   "outputs": [],
   "source": [
    "# to get most depressed tweets\n",
    "j = 1\n",
    "sorteddf = df.sort_values(by=['Polarity'])\n",
    "for i in range(0,[sorteddf.shape[0]]):\n",
    "    if(sorteddf['Analysis'][i] == 'Depressed'):\n",
    "        print(str(j) + ') '+sorteddf['Tweets'][i])\n",
    "        print()\n",
    "        j = j+1"
   ]
  },
  {
   "cell_type": "code",
   "execution_count": null,
   "id": "d0a4ae2c",
   "metadata": {},
   "outputs": [],
   "source": [
    "# to get not depressed tweets\n",
    "j = 1\n",
    "sorteddf = df.sort_values(by=['Polarity'])\n",
    "for i in range(0,[sorteddf.shape[0]]):\n",
    "    if(sorteddf['Analysis'][i] == 'Not Depressed'):\n",
    "        print(str(j) + ') '+sorteddf['Tweets'][i])\n",
    "        print()\n",
    "        j = j+1"
   ]
  },
  {
   "cell_type": "code",
   "execution_count": null,
   "id": "293f85cb",
   "metadata": {},
   "outputs": [],
   "source": [
    "# visualization\n",
    "plt.figure(figsize=(8,6))\n",
    "for i in range(0, df.shape[0]):\n",
    "    plt.scatter(df['Polarity'][i], df['subjectivity'][i], color='Red' )\n",
    "    \n",
    "plt.title('Sentiment Analysis')\n",
    "plt.xlable('Polarity')\n",
    "plt.ylable('Subjectivity')\n",
    "plt.show()"
   ]
  },
  {
   "cell_type": "code",
   "execution_count": null,
   "id": "ac4de54b",
   "metadata": {},
   "outputs": [],
   "source": []
  }
 ],
 "metadata": {
  "kernelspec": {
   "display_name": "Python 3",
   "language": "python",
   "name": "python3"
  },
  "language_info": {
   "codemirror_mode": {
    "name": "ipython",
    "version": 3
   },
   "file_extension": ".py",
   "mimetype": "text/x-python",
   "name": "python",
   "nbconvert_exporter": "python",
   "pygments_lexer": "ipython3",
   "version": "3.8.8"
  }
 },
 "nbformat": 4,
 "nbformat_minor": 5
}
