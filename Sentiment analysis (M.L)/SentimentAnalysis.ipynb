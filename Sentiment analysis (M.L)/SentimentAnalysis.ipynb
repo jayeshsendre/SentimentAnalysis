{
 "cells": [
  {
   "cell_type": "code",
   "execution_count": 1,
   "id": "75654f39",
   "metadata": {},
   "outputs": [],
   "source": [
    "import tweepy\n",
    "from textblob import TextBlob\n",
    "from wordcloud import WordCloud\n",
    "import pandas as pd\n",
    "import numpy as np\n",
    "import re\n",
    "import matplotlib.pyplot as plt\n",
    "plt.style.use('fivethirtyeight')"
   ]
  },
  {
   "cell_type": "code",
   "execution_count": null,
   "id": "ff8a3fe3",
   "metadata": {},
   "outputs": [],
   "source": [
    "\n"
   ]
  },
  {
   "cell_type": "code",
   "execution_count": 2,
   "id": "20a92e1e",
   "metadata": {},
   "outputs": [],
   "source": [
    "config=pd.read_csv(\"./config.csv\")"
   ]
  },
  {
   "cell_type": "code",
   "execution_count": 3,
   "id": "bc073eb2",
   "metadata": {},
   "outputs": [],
   "source": [
    "ApiKey=config['ApiKey'][0]\n",
    "ApiSecret=config['ApiSecret'][0]\n",
    "ApiAccessToken=config['ApiAccessToken'][0]\n",
    "ApiAccessTokenSecret=config['ApiAccessTokenSecret'][0]"
   ]
  },
  {
   "cell_type": "code",
   "execution_count": 4,
   "id": "03ebdeff",
   "metadata": {},
   "outputs": [],
   "source": [
    "#creating authentication object\n",
    "auth = tweepy.OAuthHandler(ApiKey, ApiSecret)\n",
    "\n",
    "#set the access token and access token secret\n",
    "auth.set_access_token(ApiAccessToken,ApiAccessTokenSecret)\n",
    "\n",
    "#create the API object while passing in the auth function\n",
    "api=tweepy.API(auth, wait_on_rate_limit=True)"
   ]
  },
  {
   "cell_type": "code",
   "execution_count": 5,
   "id": "aa95879d",
   "metadata": {},
   "outputs": [],
   "source": [
    "tag='depressed'"
   ]
  },
  {
   "cell_type": "code",
   "execution_count": 6,
   "id": "ff286a54",
   "metadata": {},
   "outputs": [],
   "source": [
    "tweets= api.search_tweets(q=tag,lang='en',count=100)"
   ]
  },
  {
   "cell_type": "code",
   "execution_count": 7,
   "id": "5948c5d8",
   "metadata": {},
   "outputs": [
    {
     "name": "stdout",
     "output_type": "stream",
     "text": [
      "(0.) RT @lilsproutboi: Tony immediately knowing that Yuno’s sadge farming judging by his tone 😭\n",
      "\n",
      "Tony: “Blau, u logging back in? Yuno’s getting…\n",
      "\n",
      "(1.) RT @Rich_Cooper: If masculinity is so toxic, then kids growing up without dads would be better off than those with them.\n",
      "\n",
      "But they aren't,…\n",
      "\n",
      "(2.) RT @Mumtaz_Bano17: TAHAJJUD REMINDER!\n",
      "People don't skip TAHAJJUD, especially this month &amp; next. Do loads of duas. Persuade Allah to change…\n",
      "\n",
      "(3.) RT @mxrvssa: Fuckin a dead beat is not a flex. Fuckin somebody knowing that they have a baby elsewhere and the mother is depressed and poss…\n",
      "\n",
      "(4.) When you are depressed but couldn't smoke a cigarette 😥\n",
      "\n",
      "(5.) RT @Mumtaz_Bano17: TAHAJJUD REMINDER!\n",
      "People don't skip TAHAJJUD, especially this month &amp; next. Do loads of duas. Persuade Allah to change…\n",
      "\n",
      "(6.) RT @mxrvssa: Fuckin a dead beat is not a flex. Fuckin somebody knowing that they have a baby elsewhere and the mother is depressed and poss…\n",
      "\n",
      "(7.) RT @dxzysLIVE: @notch @C418 notch tweeting from his $70 million dollar mansion where he sits alone and depressed with no friends while cons…\n",
      "\n",
      "(8.) RT @Rich_Cooper: If masculinity is so toxic, then kids growing up without dads would be better off than those with them.\n",
      "\n",
      "But they aren't,…\n",
      "\n",
      "(9.) RT @ChinaksOfLagos: STORY THREAD!!!\n",
      "\n",
      "\"A beautiful woman in an expensive dress came to her psychiatrist, saying that she was depressed and h…\n",
      "\n",
      "(10.) RT @reactjpg: depressed guy seen too much looking at computer then destroying it and laying on the ground https://t.co/3mxQ5PFUe0\n",
      "\n",
      "(11.) RT @intofolklaur: YASSSS ALL MY DEPRESSED FRIENDS COME ON #GoodRiddanceOutNOW https://t.co/uPu3GnAbaJ\n",
      "\n",
      "(12.) RT @EmotionsDoctor: Their high school and college days will be filled with stares, gossip, and bullying.\n",
      "\n",
      "Your young child/ teenager may en…\n",
      "\n",
      "(13.) RT @KryssyLaReina: My friend is depressed because she is turning 30.  I need y’all to understand that 30 is not old and your life doesn’t e…\n",
      "\n",
      "(14.) RT @Mindsetconquer: If You're Feeling Low or Depressed Watch These 7 Videos:\n",
      "\n",
      "1. https://t.co/JEf1urQXzb\n",
      "\n",
      "(15.) Whenever im depressed i just talk consistently to one person and no one else cuz i be having no energy\n",
      "\n",
      "(16.) RT @KhumaloDanica: #MassCountry Everything AKA said on Diary is what we have been saying all these years.Bheki Cele wasnt on the programme…\n",
      "\n",
      "(17.) @TheTaurenRogue You don't need to be depressed to wear thigh highs, but it helps!\n",
      "\n",
      "(18.) RT @TaylorLorenz: People are like “why are kids so depressed it must be their PHONES!” But never mention the fact that we’re living in a la…\n",
      "\n",
      "(19.) @shiralazar I feel this because I also work from home and it can get very isolated. It was part of what made me dep… https://t.co/if2G3DWEnm\n",
      "\n",
      "(20.) Desperate or depressed.\n",
      "\n",
      "(21.) RT @FivioForeign: Scratch dat.. I’m not healed I’m depressed..\n",
      "\n",
      "(22.) RT @mavinothabo_884: Heavenly Father, please help me reach out to my friends and family who are feeling depressed and hopeless. May You gra…\n",
      "\n",
      "(23.) I look at my drafts and get depressed cuz. Theyre not funny\n",
      "\n",
      "(24.) RT @lilsproutboi: Tony immediately knowing that Yuno’s sadge farming judging by his tone 😭\n",
      "\n",
      "Tony: “Blau, u logging back in? Yuno’s getting…\n",
      "\n",
      "(25.) RT @Rich_Cooper: If masculinity is so toxic, then kids growing up without dads would be better off than those with them.\n",
      "\n",
      "But they aren't,…\n",
      "\n",
      "(26.) RT @mxrvssa: Fuckin a dead beat is not a flex. Fuckin somebody knowing that they have a baby elsewhere and the mother is depressed and poss…\n",
      "\n",
      "(27.) i cant be depressed now im literally a future milf\n",
      "\n",
      "(28.) RT @ThomasTokman1: People who regularly help others are significantly happier and less likely to become depressed as they get older.\n",
      "\n",
      "(29.) RT @mxrvssa: Fuckin a dead beat is not a flex. Fuckin somebody knowing that they have a baby elsewhere and the mother is depressed and poss…\n",
      "\n",
      "(30.) RT @mxrvssa: Fuckin a dead beat is not a flex. Fuckin somebody knowing that they have a baby elsewhere and the mother is depressed and poss…\n",
      "\n",
      "(31.) @bootywarrior47 I had similar issue, After the drain I felt depressed. I lost all motivation to do anything anymore… https://t.co/DDdH9uq8Ry\n",
      "\n",
      "(32.) RT @mxrvssa: Fuckin a dead beat is not a flex. Fuckin somebody knowing that they have a baby elsewhere and the mother is depressed and poss…\n",
      "\n",
      "(33.) RT @JessieToutounji: I’d be depressed\n",
      "\n",
      "(34.) @RoupenArmen @PBDsPodcast @patrickbetdavid Other way around. Only losers are depressed.\n",
      "\n",
      "(35.) RT @ThomasTokman1: People who regularly help others are significantly happier and less likely to become depressed as they get older.\n",
      "\n",
      "(36.) RT @mxrvssa: Fuckin a dead beat is not a flex. Fuckin somebody knowing that they have a baby elsewhere and the mother is depressed and poss…\n",
      "\n",
      "(37.) RT @xiao_beihua: I am in my nesting stage where I feel lonely, depressed and everything bothers me, so I make my nest with sheets, pillows,…\n",
      "\n",
      "(38.) @Touyarokii These are the 2 most depressed gym leaders. I love Larry.\n",
      "\n",
      "(39.) has poor hygiene when depressed and socially deprived\n",
      "\n",
      "(40.) RT @GoldenJans: He might be depressed honestly lol\n",
      "\n",
      "(41.) RT @Mindsetconquer: If You're Feeling Low or Depressed Watch These 7 Videos:\n",
      "\n",
      "1. https://t.co/JEf1urQXzb\n",
      "\n",
      "(42.) RT @boy_director: Depressed aesthetics is old fashion now, We are JOYFUL BOYS till thy kingdom come\n",
      "\n",
      "(43.) RT @ChinaksOfLagos: STORY THREAD!!!\n",
      "\n",
      "\"A beautiful woman in an expensive dress came to her psychiatrist, saying that she was depressed and h…\n",
      "\n",
      "(44.) RT @KeenanPeachy: College admission season update - From a friend:\n",
      "\n",
      "“Niece got 1450 SAT, 4.2 GPA, competitive athlete. She didn’t even get…\n",
      "\n",
      "(45.) Most of Putin’s cabinet didn’t know about his decision to invade Ukraine till it was underway.  A few days later I… https://t.co/MFiVATvcFQ\n",
      "\n",
      "(46.) @kalebmeeks I had similar issue, After the drain I felt depressed. I lost all motivation to do anything anymore, no… https://t.co/p86CfuBsdE\n",
      "\n",
      "(47.) RT @reactjpg: depressed guy seen too much looking at computer then destroying it and laying on the ground https://t.co/3mxQ5PFUe0\n",
      "\n",
      "(48.) RT @itsprudence_k: We wanted to grow up so fast now look at us just horny and depressed souls 😅\n",
      "\n",
      "(49.) RT @gate_io: Crypto Traders should never get depressed!\n",
      "\n",
      "Here's https://t.co/8kWqgDWNXb Copy Trading\n",
      "👉 https://t.co/n1Gj5Q9q1K\n",
      "\n",
      "Let the exp…\n",
      "\n",
      "(50.) @Vensan123 I had similar issue, After the drain I felt depressed. I lost all motivation to do anything anymore, not… https://t.co/1hhUN3w3nd\n",
      "\n",
      "(51.) RT @2lbs2ozs: @GoldenJans As a man you should not be depressed\n",
      "\n",
      "(52.) Only suicidal depressed should go out, they are after Biafrabs like every election\n",
      "Don't be a fool, don't listen to… https://t.co/go2BBudMkh\n",
      "\n",
      "(53.) RT @josh_uglyasf: Some interesting facts you need to know \n",
      " \n",
      "1. If you speak too much, you will lie.\n",
      "\n",
      "2. If you think too much, you will be…\n",
      "\n",
      "(54.) @Smoothpiper02 Dude if you are genuinely troubled and depressed then why would you do something that obviously make… https://t.co/NDAzABT8ki\n",
      "\n",
      "(55.) This had me a lil depressed ngl\n",
      "https://t.co/rkuIcCD84J\n",
      "\n",
      "(56.) RT @LeaValleyGrower: \"Growers were left utterly depressed by the addresses of @theresecoffey &amp; @Mark_Spencer to the NFU conference who did…\n",
      "\n",
      "(57.) RT @KeenanPeachy: College admission season update - From a friend:\n",
      "\n",
      "“Niece got 1450 SAT, 4.2 GPA, competitive athlete. She didn’t even get…\n",
      "\n",
      "(58.) RT @lilsproutboi: Tony immediately knowing that Yuno’s sadge farming judging by his tone 😭\n",
      "\n",
      "Tony: “Blau, u logging back in? Yuno’s getting…\n",
      "\n",
      "(59.) can the next plot start bc i’m tired of being depressed https://t.co/hJV0tgwsTu\n",
      "\n",
      "(60.) RT @Mindsetconquer: If You're Feeling Low or Depressed Watch These 7 Videos:\n",
      "\n",
      "1. https://t.co/JEf1urQXzb\n",
      "\n",
      "(61.) RT @mxrvssa: Fuckin a dead beat is not a flex. Fuckin somebody knowing that they have a baby elsewhere and the mother is depressed and poss…\n",
      "\n",
      "(62.) RT @doctor_khurram: 🚨\n",
      "Don’t take Ciprofloxacin if you’re depressed.\n",
      "If your are depressed or having anxiety attacks, ciprofloxacin can wors…\n",
      "\n",
      "(63.) RT @mxrvssa: Fuckin a dead beat is not a flex. Fuckin somebody knowing that they have a baby elsewhere and the mother is depressed and poss…\n",
      "\n",
      "(64.) RT @Shalinimmmm: It's been 1.5 years since we were hired by @Mphasis and we still haven't been\n",
      "onboarded. We're feeling helpless and depres…\n",
      "\n",
      "(65.) RT @VishalS41717995: @htihol7 @Mphasis @nitinrakesh #Mphasis_Onboard_ 2022 batch ,it's been 1.6 yrs since we were hired by @Mphasis and we…\n",
      "\n",
      "(66.) RT @mxrvssa: Fuckin a dead beat is not a flex. Fuckin somebody knowing that they have a baby elsewhere and the mother is depressed and poss…\n",
      "\n",
      "(67.) RT @StanphylCap: \"Thomas H. Lee found dead of self-inflicted gunshot wound in NYC office\" https://t.co/lVHQy4sTvL\n",
      "\n",
      "Very sad.\n",
      "\n",
      "How can a PE…\n",
      "\n",
      "(68.) RT @mxrvssa: Fuckin a dead beat is not a flex. Fuckin somebody knowing that they have a baby elsewhere and the mother is depressed and poss…\n",
      "\n",
      "(69.) RT @ThomasTokman1: People who regularly help others are significantly happier and less likely to become depressed as they get older.\n",
      "\n",
      "(70.) RT @ThomasTokman1: People who regularly help others are significantly happier and less likely to become depressed as they get older.\n",
      "\n",
      "(71.) RT @mxrvssa: Fuckin a dead beat is not a flex. Fuckin somebody knowing that they have a baby elsewhere and the mother is depressed and poss…\n",
      "\n",
      "(72.) RT @mxrvssa: Fuckin a dead beat is not a flex. Fuckin somebody knowing that they have a baby elsewhere and the mother is depressed and poss…\n",
      "\n",
      "(73.) RT @KeenanPeachy: College admission season update - From a friend:\n",
      "\n",
      "“Niece got 1450 SAT, 4.2 GPA, competitive athlete. She didn’t even get…\n",
      "\n",
      "(74.) RT @KeenanPeachy: College admission season update - From a friend:\n",
      "\n",
      "“Niece got 1450 SAT, 4.2 GPA, competitive athlete. She didn’t even get…\n",
      "\n",
      "(75.) RT @mxrvssa: Fuckin a dead beat is not a flex. Fuckin somebody knowing that they have a baby elsewhere and the mother is depressed and poss…\n",
      "\n",
      "(76.) RT @ThomasTokman1: People who regularly help others are significantly happier and less likely to become depressed as they get older.\n",
      "\n",
      "(77.) RT @VishalS41717995: @Ajju_2002 @Mphasis @MphasisCareers @nitinrakesh @SrikanthKarra01 #Mphasis_Onboard_ 2022 batch ,it's been 1.6 yrs sinc…\n",
      "\n",
      "(78.) RT @mxrvssa: Fuckin a dead beat is not a flex. Fuckin somebody knowing that they have a baby elsewhere and the mother is depressed and poss…\n",
      "\n",
      "(79.) RT @Mindsetconquer: If You're Feeling Low or Depressed Watch These 7 Videos:\n",
      "\n",
      "1. https://t.co/JEf1urQXzb\n",
      "\n",
      "(80.) RT @RisingBrains001: The American Academy of Pediatrics is corrupt. Doctors follow these recommendations. Instead of watchful waiting they…\n",
      "\n",
      "(81.) @RealBrysonGray 50 cent once said. “ being depressed is a luxury”.\n",
      "\n",
      "(82.) RT @ThomasTokman1: People who regularly help others are significantly happier and less likely to become depressed as they get older.\n",
      "\n",
      "(83.) RT @KeenanPeachy: College admission season update - From a friend:\n",
      "\n",
      "“Niece got 1450 SAT, 4.2 GPA, competitive athlete. She didn’t even get…\n",
      "\n",
      "(84.) RT @ThomasTokman1: People who regularly help others are significantly happier and less likely to become depressed as they get older.\n",
      "\n",
      "(85.) \"current mood?\" - Here? Like, im not depressed or sad, but im not super happy im neutral it's weird #tellonym  https://t.co/mJWhHLuaYn\n",
      "\n",
      "(86.) RT @Mindsetconquer: If You're Feeling Low or Depressed Watch These 7 Videos:\n",
      "\n",
      "1. https://t.co/JEf1urQXzb\n",
      "\n",
      "(87.) RT @racheIaIi: awsten knight fr said i will now make a album for all u hot* people\n",
      "\n",
      "*religiously traumatised, bpd ridden, depressed, crazy…\n",
      "\n",
      "(88.) RT @mxrvssa: Fuckin a dead beat is not a flex. Fuckin somebody knowing that they have a baby elsewhere and the mother is depressed and poss…\n",
      "\n",
      "(89.) RT @ThomasTokman1: People who regularly help others are significantly happier and less likely to become depressed as they get older.\n",
      "\n",
      "(90.) i was going to tell my dad i was trans today but i lacked the courage\n",
      "i was going to tell my mom im depressed today… https://t.co/BANYlcrggO\n",
      "\n",
      "(91.) @stopbeingdelulu like that song is so beautiful it changed the trajectory of my life! whenever i feel depressed i tend to listen to it🥹\n",
      "\n",
      "(92.) RT @ThomasTokman1: People who regularly help others are significantly happier and less likely to become depressed as they get older.\n",
      "\n",
      "(93.) STOPP NO I JUST REALISED ILL BE AT WORK WHEN HARRY HAS HIS MELB SHOW IM DEPRESSED\n",
      "\n",
      "(94.) RT @mxrvssa: Fuckin a dead beat is not a flex. Fuckin somebody knowing that they have a baby elsewhere and the mother is depressed and poss…\n",
      "\n",
      "(95.) @tanyakanrl From angry 24/7 to depressed 24/7 karena dibully netijen\n",
      "\n",
      "(96.) RT @ChinaksOfLagos: STORY THREAD!!!\n",
      "\n",
      "\"A beautiful woman in an expensive dress came to her psychiatrist, saying that she was depressed and h…\n",
      "\n",
      "(97.) RT @reactjpg: depressed guy seen too much looking at computer then destroying it and laying on the ground https://t.co/3mxQ5PFUe0\n",
      "\n",
      "(98.) RT @mxrvssa: Fuckin a dead beat is not a flex. Fuckin somebody knowing that they have a baby elsewhere and the mother is depressed and poss…\n",
      "\n",
      "(99.) People get depressed when they have no contact with friends for 24 hours, I’ve been like that for a year\n",
      "\n"
     ]
    }
   ],
   "source": [
    "i=0\n",
    "for tweet in tweets:\n",
    "    print('('+str(i)+'.) '+tweet.text+'\\n')\n",
    "    i+=1"
   ]
  },
  {
   "cell_type": "code",
   "execution_count": 8,
   "id": "29b6e430",
   "metadata": {},
   "outputs": [],
   "source": [
    "#create a dataframe with a column called tweets\n",
    "\n",
    "df=pd.DataFrame([tweet.text for tweet in tweets], columns=['Tweets'])"
   ]
  },
  {
   "cell_type": "code",
   "execution_count": null,
   "id": "30d933d1",
   "metadata": {},
   "outputs": [],
   "source": []
  },
  {
   "cell_type": "code",
   "execution_count": 9,
   "id": "016c3a18",
   "metadata": {},
   "outputs": [
    {
     "data": {
      "text/html": [
       "<div>\n",
       "<style scoped>\n",
       "    .dataframe tbody tr th:only-of-type {\n",
       "        vertical-align: middle;\n",
       "    }\n",
       "\n",
       "    .dataframe tbody tr th {\n",
       "        vertical-align: top;\n",
       "    }\n",
       "\n",
       "    .dataframe thead th {\n",
       "        text-align: right;\n",
       "    }\n",
       "</style>\n",
       "<table border=\"1\" class=\"dataframe\">\n",
       "  <thead>\n",
       "    <tr style=\"text-align: right;\">\n",
       "      <th></th>\n",
       "      <th>Tweets</th>\n",
       "    </tr>\n",
       "  </thead>\n",
       "  <tbody>\n",
       "    <tr>\n",
       "      <th>0</th>\n",
       "      <td>tony immediately knowing that yunos sadge fa...</td>\n",
       "    </tr>\n",
       "    <tr>\n",
       "      <th>1</th>\n",
       "      <td>cooper if masculinity is so toxic then kids g...</td>\n",
       "    </tr>\n",
       "    <tr>\n",
       "      <th>2</th>\n",
       "      <td>bano17 tahajjud reminderpeople dont skip taha...</td>\n",
       "    </tr>\n",
       "    <tr>\n",
       "      <th>3</th>\n",
       "      <td>fuckin a dead beat is not a flex fuckin some...</td>\n",
       "    </tr>\n",
       "    <tr>\n",
       "      <th>4</th>\n",
       "      <td>when you are depressed but couldnt smoke a cig...</td>\n",
       "    </tr>\n",
       "    <tr>\n",
       "      <th>...</th>\n",
       "      <td>...</td>\n",
       "    </tr>\n",
       "    <tr>\n",
       "      <th>95</th>\n",
       "      <td>from angry 247 to depressed 247 karena dibull...</td>\n",
       "    </tr>\n",
       "    <tr>\n",
       "      <th>96</th>\n",
       "      <td>story threada beautiful woman in an expensiv...</td>\n",
       "    </tr>\n",
       "    <tr>\n",
       "      <th>97</th>\n",
       "      <td>depressed guy seen too much looking at compu...</td>\n",
       "    </tr>\n",
       "    <tr>\n",
       "      <th>98</th>\n",
       "      <td>fuckin a dead beat is not a flex fuckin some...</td>\n",
       "    </tr>\n",
       "    <tr>\n",
       "      <th>99</th>\n",
       "      <td>people get depressed when they have no contact...</td>\n",
       "    </tr>\n",
       "  </tbody>\n",
       "</table>\n",
       "<p>100 rows × 1 columns</p>\n",
       "</div>"
      ],
      "text/plain": [
       "                                               Tweets\n",
       "0     tony immediately knowing that yunos sadge fa...\n",
       "1    cooper if masculinity is so toxic then kids g...\n",
       "2    bano17 tahajjud reminderpeople dont skip taha...\n",
       "3     fuckin a dead beat is not a flex fuckin some...\n",
       "4   when you are depressed but couldnt smoke a cig...\n",
       "..                                                ...\n",
       "95   from angry 247 to depressed 247 karena dibull...\n",
       "96    story threada beautiful woman in an expensiv...\n",
       "97    depressed guy seen too much looking at compu...\n",
       "98    fuckin a dead beat is not a flex fuckin some...\n",
       "99  people get depressed when they have no contact...\n",
       "\n",
       "[100 rows x 1 columns]"
      ]
     },
     "execution_count": 9,
     "metadata": {},
     "output_type": "execute_result"
    }
   ],
   "source": [
    "#cleaning data\n",
    "def cleanTxt(text):\n",
    "    text = text.lower()\n",
    "    text = re.sub(r'@[A-Za-z0-9]+', '',text)\n",
    "    text = re.sub(r'#','',text)\n",
    "    text = re.sub(r'RT[\\s]+','',text)\n",
    "    text = re.sub(r'https?:\\/\\/S+','',text)\n",
    "    text = re.sub(r'<Emoji:.>','',text)\n",
    "    text = re.sub(r\"(@\\[A-Za-z0-9]+)|([^0-9A-Za-z \\t])|(\\w+:\\/\\/\\S+)|^rt|http.+?\", \"\", text)\n",
    "    return text\n",
    "\n",
    "df['Tweets']=df['Tweets'].apply(cleanTxt)\n",
    "df"
   ]
  },
  {
   "cell_type": "code",
   "execution_count": 10,
   "id": "84cd528f",
   "metadata": {},
   "outputs": [
    {
     "name": "stdout",
     "output_type": "stream",
     "text": [
      "Requirement already satisfied: nltk in c:\\users\\jayes\\anaconda3\\lib\\site-packages (3.6.1)\n",
      "Requirement already satisfied: joblib in c:\\users\\jayes\\anaconda3\\lib\\site-packages (from nltk) (1.0.1)\n",
      "Requirement already satisfied: tqdm in c:\\users\\jayes\\anaconda3\\lib\\site-packages (from nltk) (4.59.0)\n",
      "Requirement already satisfied: click in c:\\users\\jayes\\anaconda3\\lib\\site-packages (from nltk) (7.1.2)\n",
      "Requirement already satisfied: regex in c:\\users\\jayes\\anaconda3\\lib\\site-packages (from nltk) (2021.4.4)\n",
      "Note: you may need to restart the kernel to use updated packages.\n"
     ]
    }
   ],
   "source": [
    "pip install nltk"
   ]
  },
  {
   "cell_type": "code",
   "execution_count": null,
   "id": "b170f05a",
   "metadata": {},
   "outputs": [],
   "source": [
    "import nltk\n",
    "nltk.download('punkt')\n",
    "from nltk.corpus import stopwords\n",
    "set(stopwords.words('english'))\n",
    "from nltk.tokenize import word_tokenize\n",
    "def removeStopWords(text):\n",
    "    text_token = word_tokenize(text)\n",
    "    token_without_sw = [word for word in text_token if not word in stopwords.words()]\n",
    "    filtered_text = \" \".join(token_without_sw)\n",
    "    print(filtered_text)\n",
    "    return filtered_text\n",
    "df['Tweets']=df['Tweets'].apply(removeStopWords)\n",
    "df"
   ]
  },
  {
   "cell_type": "code",
   "execution_count": 13,
   "id": "0621c688",
   "metadata": {},
   "outputs": [
    {
     "data": {
      "text/html": [
       "<div>\n",
       "<style scoped>\n",
       "    .dataframe tbody tr th:only-of-type {\n",
       "        vertical-align: middle;\n",
       "    }\n",
       "\n",
       "    .dataframe tbody tr th {\n",
       "        vertical-align: top;\n",
       "    }\n",
       "\n",
       "    .dataframe thead th {\n",
       "        text-align: right;\n",
       "    }\n",
       "</style>\n",
       "<table border=\"1\" class=\"dataframe\">\n",
       "  <thead>\n",
       "    <tr style=\"text-align: right;\">\n",
       "      <th></th>\n",
       "      <th>Tweets</th>\n",
       "      <th>polarity</th>\n",
       "    </tr>\n",
       "  </thead>\n",
       "  <tbody>\n",
       "    <tr>\n",
       "      <th>0</th>\n",
       "      <td>women dont be caring if they man depressed o...</td>\n",
       "      <td>-0.250000</td>\n",
       "    </tr>\n",
       "    <tr>\n",
       "      <th>1</th>\n",
       "      <td>pernah tak kau busykan diri kau untuk hilang...</td>\n",
       "      <td>-0.500000</td>\n",
       "    </tr>\n",
       "    <tr>\n",
       "      <th>2</th>\n",
       "      <td>only poor people think this while tons of ri...</td>\n",
       "      <td>-0.181250</td>\n",
       "    </tr>\n",
       "    <tr>\n",
       "      <th>3</th>\n",
       "      <td>quran verse for when youre feelingupset  315...</td>\n",
       "      <td>0.000000</td>\n",
       "    </tr>\n",
       "    <tr>\n",
       "      <th>4</th>\n",
       "      <td>deku depressed traumatized constantly on the...</td>\n",
       "      <td>-0.033333</td>\n",
       "    </tr>\n",
       "    <tr>\n",
       "      <th>...</th>\n",
       "      <td>...</td>\n",
       "      <td>...</td>\n",
       "    </tr>\n",
       "    <tr>\n",
       "      <th>95</th>\n",
       "      <td>02 pet</td>\n",
       "      <td>0.000000</td>\n",
       "    </tr>\n",
       "    <tr>\n",
       "      <th>96</th>\n",
       "      <td>casteist slurs are not satirestudents at jai...</td>\n",
       "      <td>0.000000</td>\n",
       "    </tr>\n",
       "    <tr>\n",
       "      <th>97</th>\n",
       "      <td>spiders ive been obsessed with soggy depresse...</td>\n",
       "      <td>-0.500000</td>\n",
       "    </tr>\n",
       "    <tr>\n",
       "      <th>98</th>\n",
       "      <td>blue storks are never depressed</td>\n",
       "      <td>0.000000</td>\n",
       "    </tr>\n",
       "    <tr>\n",
       "      <th>99</th>\n",
       "      <td>i bet someone is already depressed about the...</td>\n",
       "      <td>0.000000</td>\n",
       "    </tr>\n",
       "  </tbody>\n",
       "</table>\n",
       "<p>100 rows × 2 columns</p>\n",
       "</div>"
      ],
      "text/plain": [
       "                                               Tweets  polarity\n",
       "0     women dont be caring if they man depressed o... -0.250000\n",
       "1     pernah tak kau busykan diri kau untuk hilang... -0.500000\n",
       "2     only poor people think this while tons of ri... -0.181250\n",
       "3     quran verse for when youre feelingupset  315...  0.000000\n",
       "4     deku depressed traumatized constantly on the... -0.033333\n",
       "..                                                ...       ...\n",
       "95                                     02 pet          0.000000\n",
       "96    casteist slurs are not satirestudents at jai...  0.000000\n",
       "97   spiders ive been obsessed with soggy depresse... -0.500000\n",
       "98                   blue storks are never depressed   0.000000\n",
       "99    i bet someone is already depressed about the...  0.000000\n",
       "\n",
       "[100 rows x 2 columns]"
      ]
     },
     "execution_count": 13,
     "metadata": {},
     "output_type": "execute_result"
    }
   ],
   "source": [
    "def checksubjectivity(text):\n",
    "    return TextBlob(text).sentiment.subjectivity\n",
    "def checkpolarity(text):\n",
    "    return TextBlob(text).sentiment.polarity\n",
    "df['polarity'] = df['Tweets'].apply(checkpolarity)\n",
    "df"
   ]
  },
  {
   "cell_type": "code",
   "execution_count": 1,
   "id": "ed6ec6e0",
   "metadata": {},
   "outputs": [
    {
     "ename": "NameError",
     "evalue": "name 'df' is not defined",
     "output_type": "error",
     "traceback": [
      "\u001b[1;31m---------------------------------------------------------------------------\u001b[0m",
      "\u001b[1;31mNameError\u001b[0m                                 Traceback (most recent call last)",
      "\u001b[1;32m<ipython-input-1-60f174e655f6>\u001b[0m in \u001b[0;36m<module>\u001b[1;34m\u001b[0m\n\u001b[1;32m----> 1\u001b[1;33m \u001b[0mwords\u001b[0m \u001b[1;33m=\u001b[0m \u001b[1;34m' '\u001b[0m\u001b[1;33m.\u001b[0m\u001b[0mjoin\u001b[0m\u001b[1;33m(\u001b[0m\u001b[0mt\u001b[0m \u001b[1;32mfor\u001b[0m \u001b[0mt\u001b[0m \u001b[1;32min\u001b[0m \u001b[0mdf\u001b[0m\u001b[1;33m[\u001b[0m\u001b[1;34m'Tweets'\u001b[0m\u001b[1;33m]\u001b[0m\u001b[1;33m)\u001b[0m\u001b[1;33m\u001b[0m\u001b[1;33m\u001b[0m\u001b[0m\n\u001b[0m\u001b[0;32m      2\u001b[0m \u001b[0mwordcloud\u001b[0m \u001b[1;33m=\u001b[0m \u001b[0mWordCloud\u001b[0m\u001b[1;33m(\u001b[0m\u001b[0mwidth\u001b[0m \u001b[1;33m=\u001b[0m \u001b[1;36m500\u001b[0m\u001b[1;33m,\u001b[0m \u001b[0mheight\u001b[0m \u001b[1;33m=\u001b[0m \u001b[1;36m300\u001b[0m\u001b[1;33m,\u001b[0m \u001b[0mrandom_state\u001b[0m \u001b[1;33m=\u001b[0m \u001b[1;36m21\u001b[0m\u001b[1;33m,\u001b[0m \u001b[0mmax_font_size\u001b[0m \u001b[1;33m=\u001b[0m \u001b[1;36m119\u001b[0m\u001b[1;33m)\u001b[0m\u001b[1;33m.\u001b[0m\u001b[0mgenerate\u001b[0m\u001b[1;33m(\u001b[0m\u001b[0mwords\u001b[0m\u001b[1;33m)\u001b[0m\u001b[1;33m\u001b[0m\u001b[1;33m\u001b[0m\u001b[0m\n\u001b[0;32m      3\u001b[0m \u001b[0mplt\u001b[0m\u001b[1;33m.\u001b[0m\u001b[0mimshow\u001b[0m\u001b[1;33m(\u001b[0m\u001b[0mwordcloud\u001b[0m\u001b[1;33m,\u001b[0m \u001b[0minterpolation\u001b[0m \u001b[1;33m=\u001b[0m \u001b[1;34m\"bilinear\"\u001b[0m\u001b[1;33m)\u001b[0m\u001b[1;33m\u001b[0m\u001b[1;33m\u001b[0m\u001b[0m\n\u001b[0;32m      4\u001b[0m \u001b[0mplt\u001b[0m\u001b[1;33m.\u001b[0m\u001b[0maxis\u001b[0m\u001b[1;33m(\u001b[0m\u001b[1;34m\"off\"\u001b[0m\u001b[1;33m)\u001b[0m\u001b[1;33m\u001b[0m\u001b[1;33m\u001b[0m\u001b[0m\n\u001b[0;32m      5\u001b[0m \u001b[0mplt\u001b[0m\u001b[1;33m.\u001b[0m\u001b[0mshow\u001b[0m\u001b[1;33m\u001b[0m\u001b[1;33m\u001b[0m\u001b[0m\n",
      "\u001b[1;31mNameError\u001b[0m: name 'df' is not defined"
     ]
    }
   ],
   "source": [
    "words = ' '.join(t for t in df['Tweets'])\n",
    "wordcloud = WordCloud(width = 500, height = 300, random_state = 21, max_font_size = 119).generate(words)\n",
    "plt.imshow(wordcloud, interpolation = \"bilinear\")\n",
    "plt.axis(\"off\")\n",
    "plt.show"
   ]
  },
  {
   "cell_type": "code",
   "execution_count": null,
   "id": "38494b2a",
   "metadata": {},
   "outputs": [],
   "source": [
    "df[\"Sentiment\"]=[None for i in range(len(df))]\n",
    "for i in range(len(df)):\n",
    "    s = TextBlob(df[\"Tweets\"].iloc[i]).sentiment\n",
    "    print(s)\n",
    "    if(s[0]>=0):\n",
    "        df[\"Sentiment\"].iloc[i] = 0 #not-depressed\n",
    "    else:\n",
    "        df[\"Sentiment\"].iloc[i] = 1 #depressed"
   ]
  },
  {
   "cell_type": "code",
   "execution_count": 2,
   "id": "297bb396",
   "metadata": {},
   "outputs": [
    {
     "ename": "NameError",
     "evalue": "name 'df' is not defined",
     "output_type": "error",
     "traceback": [
      "\u001b[1;31m---------------------------------------------------------------------------\u001b[0m",
      "\u001b[1;31mNameError\u001b[0m                                 Traceback (most recent call last)",
      "\u001b[1;32m<ipython-input-2-66211d3f6a34>\u001b[0m in \u001b[0;36m<module>\u001b[1;34m\u001b[0m\n\u001b[1;32m----> 1\u001b[1;33m \u001b[0mprint\u001b[0m\u001b[1;33m(\u001b[0m\u001b[1;34m\"not depressed=\"\u001b[0m\u001b[1;33m+\u001b[0m\u001b[0mstr\u001b[0m\u001b[1;33m(\u001b[0m\u001b[0mlen\u001b[0m\u001b[1;33m(\u001b[0m\u001b[0mdf\u001b[0m\u001b[1;33m[\u001b[0m\u001b[0mdf\u001b[0m\u001b[1;33m[\u001b[0m\u001b[1;34m\"Sentiment\"\u001b[0m\u001b[1;33m]\u001b[0m\u001b[1;33m==\u001b[0m\u001b[1;36m0\u001b[0m\u001b[1;33m]\u001b[0m\u001b[1;33m)\u001b[0m\u001b[1;33m)\u001b[0m\u001b[1;33m)\u001b[0m\u001b[1;33m\u001b[0m\u001b[1;33m\u001b[0m\u001b[0m\n\u001b[0m\u001b[0;32m      2\u001b[0m \u001b[0mprint\u001b[0m\u001b[1;33m(\u001b[0m\u001b[1;34m\"depressed=\"\u001b[0m\u001b[1;33m+\u001b[0m\u001b[0mstr\u001b[0m\u001b[1;33m(\u001b[0m\u001b[0mlen\u001b[0m\u001b[1;33m(\u001b[0m\u001b[0mdf\u001b[0m\u001b[1;33m[\u001b[0m\u001b[0mdf\u001b[0m\u001b[1;33m[\u001b[0m\u001b[1;34m\"Sentiment\"\u001b[0m\u001b[1;33m]\u001b[0m\u001b[1;33m==\u001b[0m\u001b[1;36m1\u001b[0m\u001b[1;33m]\u001b[0m\u001b[1;33m)\u001b[0m\u001b[1;33m)\u001b[0m\u001b[1;33m)\u001b[0m\u001b[1;33m\u001b[0m\u001b[1;33m\u001b[0m\u001b[0m\n",
      "\u001b[1;31mNameError\u001b[0m: name 'df' is not defined"
     ]
    }
   ],
   "source": [
    "print(\"not depressed=\"+str(len(df[df[\"Sentiment\"]==0])))\n",
    "print(\"depressed=\"+str(len(df[df[\"Sentiment\"]==1])))"
   ]
  },
  {
   "cell_type": "code",
   "execution_count": null,
   "id": "ced979ac",
   "metadata": {},
   "outputs": [],
   "source": [
    "df"
   ]
  },
  {
   "cell_type": "code",
   "execution_count": null,
   "id": "ef8b0ca0",
   "metadata": {},
   "outputs": [],
   "source": [
    "from sklearn.model_selection import train_test_split\n",
    "X_train, X_test, Y_train, Y_test = train_test_split(df['Tweets'],df['Sentiment'],test_size=0.2,random_state=84)"
   ]
  },
  {
   "cell_type": "code",
   "execution_count": null,
   "id": "c0a59a17",
   "metadata": {},
   "outputs": [],
   "source": [
    "len(X_train)"
   ]
  },
  {
   "cell_type": "code",
   "execution_count": null,
   "id": "701f2e21",
   "metadata": {},
   "outputs": [],
   "source": [
    "len(X_test)"
   ]
  },
  {
   "cell_type": "code",
   "execution_count": null,
   "id": "3ac304a4",
   "metadata": {},
   "outputs": [],
   "source": [
    "#VECTORIZATION\n",
    "from sklearn.feature_extraction.text import TfidfVectorizer"
   ]
  },
  {
   "cell_type": "code",
   "execution_count": null,
   "id": "95477bb4",
   "metadata": {},
   "outputs": [],
   "source": [
    "cv = TfidfVectorizer(ngram_range=(1,2))\n",
    "X_vec_train = cv.fit_transform(X_train).toarray()\n",
    "X_vec_train"
   ]
  },
  {
   "cell_type": "code",
   "execution_count": null,
   "id": "829ccf94",
   "metadata": {},
   "outputs": [],
   "source": [
    "print(cv.get_feature_names())"
   ]
  },
  {
   "cell_type": "code",
   "execution_count": null,
   "id": "d8906535",
   "metadata": {},
   "outputs": [],
   "source": [
    "X_vec_test = cv.transform(X_test).toarray()"
   ]
  },
  {
   "cell_type": "code",
   "execution_count": null,
   "id": "98afa30d",
   "metadata": {},
   "outputs": [],
   "source": [
    "X_vec_test"
   ]
  },
  {
   "cell_type": "code",
   "execution_count": null,
   "id": "ccf7ffc5",
   "metadata": {},
   "outputs": [],
   "source": [
    "# Multinomial Naive Bayes\n",
    "from sklearn.naive_bayes import MultinomialNB"
   ]
  },
  {
   "cell_type": "code",
   "execution_count": null,
   "id": "c8e86d0a",
   "metadata": {},
   "outputs": [],
   "source": [
    "mn_obj = MultinomialNB()"
   ]
  },
  {
   "cell_type": "code",
   "execution_count": null,
   "id": "066c25d8",
   "metadata": {},
   "outputs": [],
   "source": [
    "len(X_vec_train),len(Y_train)\n",
    "Y_train = Y_train.astype('int64')\n",
    "X_vec_train.dtype,Y_train.dtype\n",
    "mn_obj.fit(X_vec_train,Y_train)"
   ]
  },
  {
   "cell_type": "code",
   "execution_count": null,
   "id": "9d93657f",
   "metadata": {},
   "outputs": [],
   "source": [
    "Y_prediction = mn_obj.predict(X_vec_test)"
   ]
  },
  {
   "cell_type": "code",
   "execution_count": null,
   "id": "fee3f073",
   "metadata": {},
   "outputs": [],
   "source": [
    "X_test"
   ]
  },
  {
   "cell_type": "code",
   "execution_count": null,
   "id": "27e4bab9",
   "metadata": {},
   "outputs": [],
   "source": [
    "#1 means depressed\n",
    "Y_prediction"
   ]
  },
  {
   "cell_type": "code",
   "execution_count": null,
   "id": "9bdbcc28",
   "metadata": {},
   "outputs": [],
   "source": [
    "from sklearn import metrics\n",
    "Y_test = Y_test.astype('int64')\n",
    "accuracy = metrics.accuracy_score(Y_test, Y_prediction)"
   ]
  },
  {
   "cell_type": "code",
   "execution_count": null,
   "id": "af9cf828",
   "metadata": {},
   "outputs": [],
   "source": [
    "accuracy"
   ]
  },
  {
   "cell_type": "code",
   "execution_count": null,
   "id": "44185572",
   "metadata": {},
   "outputs": [],
   "source": []
  },
  {
   "cell_type": "code",
   "execution_count": null,
   "id": "ff0d5767",
   "metadata": {},
   "outputs": [],
   "source": []
  }
 ],
 "metadata": {
  "kernelspec": {
   "display_name": "Python 3",
   "language": "python",
   "name": "python3"
  },
  "language_info": {
   "codemirror_mode": {
    "name": "ipython",
    "version": 3
   },
   "file_extension": ".py",
   "mimetype": "text/x-python",
   "name": "python",
   "nbconvert_exporter": "python",
   "pygments_lexer": "ipython3",
   "version": "3.8.8"
  }
 },
 "nbformat": 4,
 "nbformat_minor": 5
}
